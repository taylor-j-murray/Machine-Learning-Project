{
 "cells": [
  {
   "cell_type": "code",
   "execution_count": null,
   "id": "fea1b066",
   "metadata": {},
   "outputs": [],
   "source": [
    "import matplotlib.pyplot as plt\n",
    "import pandas as pd\n",
    "import numpy as np\n",
    "\n",
    "path = '/Users/tayma/Downloads/housing_data_kaggle.csv'\n",
    "db = pd.read_csv(path)\n",
    "\n",
    "plt."
   ]
  }
 ],
 "metadata": {
  "language_info": {
   "name": "python"
  }
 },
 "nbformat": 4,
 "nbformat_minor": 5
}
